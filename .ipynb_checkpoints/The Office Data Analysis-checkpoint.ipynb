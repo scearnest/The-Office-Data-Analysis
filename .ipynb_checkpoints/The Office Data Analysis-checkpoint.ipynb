{
 "cells": [
  {
   "cell_type": "code",
   "execution_count": 1,
   "metadata": {
    "scrolled": true
   },
   "outputs": [],
   "source": [
    "import pandas as pd\n",
    "import numpy as np\n",
    "import six\n",
    "import matplotlib.pyplot as plt\n",
    "import matplotlib.colors as mcolors\n",
    "\n",
    "df_lines = pd.read_csv(\"TheOfficeLinesPerCharacter.csv\")\n",
    "df_rating = pd.read_csv(\"TheOfficeIMDBPerEpisode.csv\")\n",
    "\n",
    "#Set up my master table\n",
    "df_master = pd.DataFrame(columns = [\"season\", \"episode\", \"rating\"])\n",
    "characters = df_lines.speaker.value_counts().reset_index(name=\"count\").query(\"count > 100\")[\"index\"]\n",
    "\n",
    "#Set up season, episode, and rating\n",
    "episode = 1\n",
    "season = 1\n",
    "for i in range(len(df_rating.index)):\n",
    "    if(season != df_rating.iloc[i]['Season']):\n",
    "        episode = 1\n",
    "        season += 1 \n",
    "    df_master = df_master.append({'season': season, 'episode': episode, 'rating':df_rating.iloc[i]['Rating']}, ignore_index=True)\n",
    "    episode += 1\n",
    "      \n",
    "#Add characters columns\n",
    "for character in characters:\n",
    "    df_master[str(character)] = np.NaN\n",
    "    \n",
    "#Add lines spoken count for each character\n",
    "for j in range(len(df_lines.index)):\n",
    "    speaker = df_lines.iloc[j]['speaker']\n",
    "    if speaker in df_master.columns:\n",
    "        season = df_lines.iloc[j]['season']\n",
    "        episode = df_lines.iloc[j]['episode']\n",
    "        index = df_master.loc[df_master['season']==season].loc[df_master['episode']==episode].index.values.astype(int)[0]\n",
    "        if(pd.isna(df_master.at[index,speaker])):\n",
    "            df_master.at[index,speaker] = 1\n",
    "        else:\n",
    "            df_master.at[index,speaker] += 1\n",
    "    \n",
    "#Clean up David's data\n",
    "David_Wallace = df_master['David'] + df_master['David Wallace']\n",
    "df_master['David'] = David_Wallace\n",
    "df_master = df_master.drop(columns=['David Wallace'])"
   ]
  },
  {
   "cell_type": "code",
   "execution_count": 3,
   "metadata": {},
   "outputs": [
    {
     "data": {
      "text/html": [
       "<div>\n",
       "<style scoped>\n",
       "    .dataframe tbody tr th:only-of-type {\n",
       "        vertical-align: middle;\n",
       "    }\n",
       "\n",
       "    .dataframe tbody tr th {\n",
       "        vertical-align: top;\n",
       "    }\n",
       "\n",
       "    .dataframe thead th {\n",
       "        text-align: right;\n",
       "    }\n",
       "</style>\n",
       "<table border=\"1\" class=\"dataframe\">\n",
       "  <thead>\n",
       "    <tr style=\"text-align: right;\">\n",
       "      <th></th>\n",
       "      <th>season</th>\n",
       "      <th>episode</th>\n",
       "      <th>rating</th>\n",
       "      <th>Michael</th>\n",
       "      <th>Dwight</th>\n",
       "      <th>Jim</th>\n",
       "      <th>Pam</th>\n",
       "      <th>Andy</th>\n",
       "      <th>Kevin</th>\n",
       "      <th>Angela</th>\n",
       "      <th>...</th>\n",
       "      <th>Phyllis</th>\n",
       "      <th>Kelly</th>\n",
       "      <th>Jan</th>\n",
       "      <th>Toby</th>\n",
       "      <th>Stanley</th>\n",
       "      <th>Meredith</th>\n",
       "      <th>Nellie</th>\n",
       "      <th>Creed</th>\n",
       "      <th>Gabe</th>\n",
       "      <th>Roy</th>\n",
       "    </tr>\n",
       "  </thead>\n",
       "  <tbody>\n",
       "    <tr>\n",
       "      <th>0</th>\n",
       "      <td>1.0</td>\n",
       "      <td>1.0</td>\n",
       "      <td>7.5</td>\n",
       "      <td>97.0</td>\n",
       "      <td>35.0</td>\n",
       "      <td>37.0</td>\n",
       "      <td>46.0</td>\n",
       "      <td>NaN</td>\n",
       "      <td>2.0</td>\n",
       "      <td>5.0</td>\n",
       "      <td>...</td>\n",
       "      <td>2.0</td>\n",
       "      <td>NaN</td>\n",
       "      <td>12.0</td>\n",
       "      <td>NaN</td>\n",
       "      <td>5.0</td>\n",
       "      <td>NaN</td>\n",
       "      <td>NaN</td>\n",
       "      <td>NaN</td>\n",
       "      <td>NaN</td>\n",
       "      <td>5.0</td>\n",
       "    </tr>\n",
       "    <tr>\n",
       "      <th>1</th>\n",
       "      <td>1.0</td>\n",
       "      <td>2.0</td>\n",
       "      <td>8.3</td>\n",
       "      <td>103.0</td>\n",
       "      <td>40.0</td>\n",
       "      <td>35.0</td>\n",
       "      <td>26.0</td>\n",
       "      <td>NaN</td>\n",
       "      <td>8.0</td>\n",
       "      <td>4.0</td>\n",
       "      <td>...</td>\n",
       "      <td>NaN</td>\n",
       "      <td>2.0</td>\n",
       "      <td>NaN</td>\n",
       "      <td>2.0</td>\n",
       "      <td>5.0</td>\n",
       "      <td>NaN</td>\n",
       "      <td>NaN</td>\n",
       "      <td>NaN</td>\n",
       "      <td>NaN</td>\n",
       "      <td>NaN</td>\n",
       "    </tr>\n",
       "    <tr>\n",
       "      <th>2</th>\n",
       "      <td>1.0</td>\n",
       "      <td>3.0</td>\n",
       "      <td>7.8</td>\n",
       "      <td>69.0</td>\n",
       "      <td>88.0</td>\n",
       "      <td>57.0</td>\n",
       "      <td>44.0</td>\n",
       "      <td>NaN</td>\n",
       "      <td>6.0</td>\n",
       "      <td>5.0</td>\n",
       "      <td>...</td>\n",
       "      <td>NaN</td>\n",
       "      <td>NaN</td>\n",
       "      <td>18.0</td>\n",
       "      <td>NaN</td>\n",
       "      <td>6.0</td>\n",
       "      <td>3.0</td>\n",
       "      <td>NaN</td>\n",
       "      <td>NaN</td>\n",
       "      <td>NaN</td>\n",
       "      <td>NaN</td>\n",
       "    </tr>\n",
       "    <tr>\n",
       "      <th>3</th>\n",
       "      <td>1.0</td>\n",
       "      <td>4.0</td>\n",
       "      <td>8.1</td>\n",
       "      <td>111.0</td>\n",
       "      <td>74.0</td>\n",
       "      <td>63.0</td>\n",
       "      <td>37.0</td>\n",
       "      <td>NaN</td>\n",
       "      <td>3.0</td>\n",
       "      <td>9.0</td>\n",
       "      <td>...</td>\n",
       "      <td>5.0</td>\n",
       "      <td>NaN</td>\n",
       "      <td>NaN</td>\n",
       "      <td>7.0</td>\n",
       "      <td>2.0</td>\n",
       "      <td>15.0</td>\n",
       "      <td>NaN</td>\n",
       "      <td>NaN</td>\n",
       "      <td>NaN</td>\n",
       "      <td>3.0</td>\n",
       "    </tr>\n",
       "    <tr>\n",
       "      <th>4</th>\n",
       "      <td>1.0</td>\n",
       "      <td>5.0</td>\n",
       "      <td>8.4</td>\n",
       "      <td>134.0</td>\n",
       "      <td>45.0</td>\n",
       "      <td>27.0</td>\n",
       "      <td>17.0</td>\n",
       "      <td>NaN</td>\n",
       "      <td>4.0</td>\n",
       "      <td>6.0</td>\n",
       "      <td>...</td>\n",
       "      <td>4.0</td>\n",
       "      <td>NaN</td>\n",
       "      <td>NaN</td>\n",
       "      <td>NaN</td>\n",
       "      <td>6.0</td>\n",
       "      <td>NaN</td>\n",
       "      <td>NaN</td>\n",
       "      <td>NaN</td>\n",
       "      <td>NaN</td>\n",
       "      <td>13.0</td>\n",
       "    </tr>\n",
       "  </tbody>\n",
       "</table>\n",
       "<p>5 rows × 24 columns</p>\n",
       "</div>"
      ],
      "text/plain": [
       "   season  episode  rating  Michael  Dwight   Jim   Pam  Andy  Kevin  Angela  \\\n",
       "0     1.0      1.0     7.5     97.0    35.0  37.0  46.0   NaN    2.0     5.0   \n",
       "1     1.0      2.0     8.3    103.0    40.0  35.0  26.0   NaN    8.0     4.0   \n",
       "2     1.0      3.0     7.8     69.0    88.0  57.0  44.0   NaN    6.0     5.0   \n",
       "3     1.0      4.0     8.1    111.0    74.0  63.0  37.0   NaN    3.0     9.0   \n",
       "4     1.0      5.0     8.4    134.0    45.0  27.0  17.0   NaN    4.0     6.0   \n",
       "\n",
       "   ...  Phyllis  Kelly   Jan  Toby  Stanley  Meredith  Nellie  Creed  Gabe  \\\n",
       "0  ...      2.0    NaN  12.0   NaN      5.0       NaN     NaN    NaN   NaN   \n",
       "1  ...      NaN    2.0   NaN   2.0      5.0       NaN     NaN    NaN   NaN   \n",
       "2  ...      NaN    NaN  18.0   NaN      6.0       3.0     NaN    NaN   NaN   \n",
       "3  ...      5.0    NaN   NaN   7.0      2.0      15.0     NaN    NaN   NaN   \n",
       "4  ...      4.0    NaN   NaN   NaN      6.0       NaN     NaN    NaN   NaN   \n",
       "\n",
       "    Roy  \n",
       "0   5.0  \n",
       "1   NaN  \n",
       "2   NaN  \n",
       "3   3.0  \n",
       "4  13.0  \n",
       "\n",
       "[5 rows x 24 columns]"
      ]
     },
     "execution_count": 3,
     "metadata": {},
     "output_type": "execute_result"
    }
   ],
   "source": [
    "#Remove character that appeared in less than 30 episodes\n",
    "TF = (df_master.isnull())\n",
    "\n",
    "for col in TF.columns:\n",
    "        if (TF[col].value_counts()[0] < 30):\n",
    "            df_master = df_master.drop(columns=[col])\n",
    "df_master.to_csv(\"./master.csv\")\n",
    "df_master.head()"
   ]
  },
  {
   "cell_type": "code",
   "execution_count": 12,
   "metadata": {},
   "outputs": [
    {
     "name": "stdout",
     "output_type": "stream",
     "text": [
      "Min:6.6\n",
      "Mean:8.248404255319146\n",
      "Max:9.8\n",
      "Std:0.5787203349443079\n"
     ]
    },
    {
     "data": {
      "image/png": "[encoded data removed]",
      "text/plain": [
       "<Figure size 720x360 with 1 Axes>"
      ]
     },
     "metadata": {
      "needs_background": "light"
     },
     "output_type": "display_data"
    }
   ],
   "source": [
    "import pylab as pl\n",
    "import pandas as pd\n",
    "import numpy as np\n",
    "import six\n",
    "import matplotlib.pyplot as plt\n",
    "import matplotlib.colors as mcolors\n",
    "\n",
    "#df_master = pd.read_csv(\"master.csv\")\n",
    "hist = df_master.hist(column = \"rating\", sharex=True, sharey=True, figsize=(10,5), grid=False)\n",
    "pl.title(\"Histogram of The Office Episode Ratings\")\n",
    "pl.ylabel(\"Frequency\")\n",
    "pl.xlabel(\"Episode Rating\")\n",
    "\n",
    "print('Min:' + str(df_master['rating'].min()))\n",
    "print('Mean:' + str(df_master['rating'].mean()))\n",
    "print('Max:' + str(df_master['rating'].max()))\n",
    "print('Std:' + str(df_master['rating'].std()))"
   ]
  },
  {
   "cell_type": "code",
   "execution_count": 13,
   "metadata": {
    "scrolled": true
   },
   "outputs": [],
   "source": [
    "#This class was found on stack overflow and simply renders images of my dataframes.\n",
    "#I am not responsible for this code\n",
    "\n",
    "def render_mpl_table(data, col_width=3.0, row_height=0.625, font_size=14,\n",
    "                     header_color='#3b3b3b', row_colors=['#f1f1f2', 'w'], edge_color='w',\n",
    "                     bbox=[0, 0, 1, 1], header_columns=0,\n",
    "                     ax=None, **kwargs):\n",
    "    if ax is None:\n",
    "        size = (np.array(data.shape[::-1]) + np.array([0, 1])) * np.array([col_width, row_height])\n",
    "        fig, ax = plt.subplots(figsize=size)\n",
    "        ax.axis('off')\n",
    "\n",
    "    mpl_table = ax.table(cellText=data.values, bbox=bbox, colLabels=data.columns, **kwargs)\n",
    "\n",
    "    mpl_table.auto_set_font_size(False)\n",
    "    mpl_table.set_fontsize(font_size)\n",
    "\n",
    "    for k, cell in  six.iteritems(mpl_table._cells):\n",
    "        cell.set_edgecolor(edge_color)\n",
    "        if k[0] == 0 or k[1] < header_columns:\n",
    "            cell.set_text_props(weight='bold', color='w')\n",
    "            cell.set_facecolor(header_color)\n",
    "        else:\n",
    "            cell.set_facecolor(row_colors[k[0]%len(row_colors) ])\n",
    "    return ax"
   ]
  },
  {
   "cell_type": "code",
   "execution_count": 14,
   "metadata": {
    "scrolled": false
   },
   "outputs": [
    {
     "data": {
      "text/plain": [
       "<matplotlib.axes._subplots.AxesSubplot at 0x11c6352e8>"
      ]
     },
     "execution_count": 14,
     "metadata": {},
     "output_type": "execute_result"
    },
    {
     "data": {
      "image/png": "[encoded data removed]",
      "text/plain": [
       "<Figure size 3600x405 with 1 Axes>"
      ]
     },
     "metadata": {
      "needs_background": "light"
     },
     "output_type": "display_data"
    }
   ],
   "source": [
    "season5 = df_master.loc[df_master['season'] == 5.0]\n",
    "\n",
    "pd.set_option('display.max_columns', None)\n",
    "render_mpl_table(season5.iloc[18:26], header_columns=0, col_width=2.0)\n",
    "\n"
   ]
  },
  {
   "cell_type": "code",
   "execution_count": 15,
   "metadata": {},
   "outputs": [],
   "source": [
    "#Create a second more condense dataset\n",
    "df_condensed = pd.DataFrame(columns = [\"character\", \"total lines\", \"avg lines per appearance\"])\n",
    "\n",
    "total_line = df_master.sum(axis=0)\n",
    "for k in range(3, df_master.shape[1]):\n",
    "    character = df_master.columns[k]\n",
    "    total_appearence = len(df_master[character].loc[df_master[character] != 0])\n",
    "    \n",
    "    row = {\"character\" : character, \"total lines\" : int(total_line[k]), \"avg lines per appearance\" : int(total_line[k]/total_appearence)}\n",
    "    df_condensed = df_condensed.append(row, ignore_index=True)"
   ]
  },
  {
   "cell_type": "code",
   "execution_count": 67,
   "metadata": {},
   "outputs": [
    {
     "data": {
      "image/png": "[encoded data removed]",
      "text/plain": [
       "<Figure size 720x360 with 1 Axes>"
      ]
     },
     "metadata": {
      "needs_background": "light"
     },
     "output_type": "display_data"
    },
    {
     "data": {
      "image/png": "[encoded data removed]",
      "text/plain": [
       "<Figure size 720x360 with 1 Axes>"
      ]
     },
     "metadata": {
      "needs_background": "light"
     },
     "output_type": "display_data"
    }
   ],
   "source": [
    "#Graph the current data\n",
    "df_condensed.plot(x ='character', y='total lines', kind = 'bar', color='#ff9999', figsize=(10,5), legend=None)\n",
    "plt.xlabel('character', fontsize=18)\n",
    "plt.ylabel('total lines in the show', fontsize=16)\n",
    "plt.show()\n",
    "\n",
    "df_condensed.plot(x ='character', y='avg lines per appearance', kind = 'bar', color='#96c7d9', figsize=(10,5), legend=None)\n",
    "plt.xlabel('character', fontsize=18)\n",
    "plt.ylabel('avg lines per appearence', fontsize=16)\n",
    "plt.show()\n",
    "\n",
    "# characters = df_condensed.sort_values(by='total lines', ascending=False)['character'].astype(str).values.tolist()\n",
    "# df_master.reset_index().plot(x='index', y = characters[:5], kind='line', figsize=(70,30))\n",
    "# plt.show()\n",
    "\n",
    "# df_master.reset_index().plot(x='index', y = [\"Dwight\", \"Michael\"], kind='line', figsize=(70,30))\n",
    "# plt.show()"
   ]
  },
  {
   "cell_type": "code",
   "execution_count": 18,
   "metadata": {},
   "outputs": [
    {
     "ename": "ValueError",
     "evalue": "shapes (188,2) and (188,2) not aligned: 2 (dim 1) != 188 (dim 0)",
     "output_type": "error",
     "traceback": [
      "\u001b[0;31m---------------------------------------------------------------------------\u001b[0m",
      "\u001b[0;31mValueError\u001b[0m                                Traceback (most recent call last)",
      "\u001b[0;32m<ipython-input-18-da404aa5d498>\u001b[0m in \u001b[0;36m<module>\u001b[0;34m\u001b[0m\n\u001b[1;32m     12\u001b[0m     \u001b[0mx\u001b[0m \u001b[0;34m=\u001b[0m \u001b[0mdf\u001b[0m\u001b[0;34m[\u001b[0m\u001b[0mcharacter\u001b[0m\u001b[0;34m]\u001b[0m\u001b[0;34m.\u001b[0m\u001b[0mto_numpy\u001b[0m\u001b[0;34m(\u001b[0m\u001b[0;34m)\u001b[0m\u001b[0;34m\u001b[0m\u001b[0;34m\u001b[0m\u001b[0m\n\u001b[1;32m     13\u001b[0m     \u001b[0my\u001b[0m \u001b[0;34m=\u001b[0m \u001b[0mdf\u001b[0m\u001b[0;34m[\u001b[0m\u001b[0;34m'rating'\u001b[0m\u001b[0;34m]\u001b[0m\u001b[0;34m.\u001b[0m\u001b[0mto_numpy\u001b[0m\u001b[0;34m(\u001b[0m\u001b[0;34m)\u001b[0m\u001b[0;34m\u001b[0m\u001b[0;34m\u001b[0m\u001b[0m\n\u001b[0;32m---> 14\u001b[0;31m     \u001b[0mdem\u001b[0m \u001b[0;34m=\u001b[0m \u001b[0mx\u001b[0m\u001b[0;34m.\u001b[0m\u001b[0mdot\u001b[0m\u001b[0;34m(\u001b[0m\u001b[0mx\u001b[0m\u001b[0;34m)\u001b[0m \u001b[0;34m-\u001b[0m \u001b[0mx\u001b[0m\u001b[0;34m.\u001b[0m\u001b[0mmean\u001b[0m\u001b[0;34m(\u001b[0m\u001b[0;34m)\u001b[0m \u001b[0;34m*\u001b[0m \u001b[0mx\u001b[0m\u001b[0;34m.\u001b[0m\u001b[0msum\u001b[0m\u001b[0;34m(\u001b[0m\u001b[0;34m)\u001b[0m\u001b[0;34m\u001b[0m\u001b[0;34m\u001b[0m\u001b[0m\n\u001b[0m\u001b[1;32m     15\u001b[0m     \u001b[0mm\u001b[0m \u001b[0;34m=\u001b[0m \u001b[0;34m(\u001b[0m\u001b[0mx\u001b[0m\u001b[0;34m.\u001b[0m\u001b[0mdot\u001b[0m\u001b[0;34m(\u001b[0m\u001b[0my\u001b[0m\u001b[0;34m)\u001b[0m \u001b[0;34m-\u001b[0m \u001b[0my\u001b[0m\u001b[0;34m.\u001b[0m\u001b[0mmean\u001b[0m\u001b[0;34m(\u001b[0m\u001b[0;34m)\u001b[0m \u001b[0;34m*\u001b[0m \u001b[0mx\u001b[0m\u001b[0;34m.\u001b[0m\u001b[0msum\u001b[0m\u001b[0;34m(\u001b[0m\u001b[0;34m)\u001b[0m\u001b[0;34m)\u001b[0m\u001b[0;34m/\u001b[0m\u001b[0mdem\u001b[0m\u001b[0;34m\u001b[0m\u001b[0;34m\u001b[0m\u001b[0m\n\u001b[1;32m     16\u001b[0m     \u001b[0mb\u001b[0m \u001b[0;34m=\u001b[0m \u001b[0;34m(\u001b[0m\u001b[0my\u001b[0m\u001b[0;34m.\u001b[0m\u001b[0mmean\u001b[0m\u001b[0;34m(\u001b[0m\u001b[0;34m)\u001b[0m \u001b[0;34m*\u001b[0m \u001b[0mx\u001b[0m\u001b[0;34m.\u001b[0m\u001b[0mdot\u001b[0m\u001b[0;34m(\u001b[0m\u001b[0mx\u001b[0m\u001b[0;34m)\u001b[0m \u001b[0;34m-\u001b[0m \u001b[0mx\u001b[0m\u001b[0;34m.\u001b[0m\u001b[0mmean\u001b[0m\u001b[0;34m(\u001b[0m\u001b[0;34m)\u001b[0m \u001b[0;34m*\u001b[0m \u001b[0mx\u001b[0m\u001b[0;34m.\u001b[0m\u001b[0mdot\u001b[0m\u001b[0;34m(\u001b[0m\u001b[0my\u001b[0m\u001b[0;34m)\u001b[0m\u001b[0;34m)\u001b[0m\u001b[0;34m/\u001b[0m\u001b[0mdem\u001b[0m\u001b[0;34m\u001b[0m\u001b[0;34m\u001b[0m\u001b[0m\n",
      "\u001b[0;31mValueError\u001b[0m: shapes (188,2) and (188,2) not aligned: 2 (dim 1) != 188 (dim 0)"
     ]
    }
   ],
   "source": [
    "import random\n",
    "#Calculate correlation between a given character's line count and the episode rating\n",
    "\n",
    "cor = []\n",
    "\n",
    "for char in df_condensed['character']:\n",
    "    character = char\n",
    "    \n",
    "    cor.append( round(df_master['rating'].corr(df_master[char]),4) )\n",
    "    \n",
    "    df = df_master[['rating',character]].dropna()\n",
    "    x = df[character].to_numpy()\n",
    "    y = df['rating'].to_numpy()\n",
    "    dem = x.dot(x) - x.mean() * x.sum()\n",
    "    m = (x.dot(y) - y.mean() * x.sum())/dem\n",
    "    b = (y.mean() * x.dot(x) - x.mean() * x.dot(y))/dem\n",
    "    line = m*x + b\n",
    "\n",
    "    df_master.plot(x = character, y='rating', kind = 'scatter', color='#ff9999', legend=None)\n",
    "    plt.plot(x, line, '#96c7d9')\n",
    "    plt.xlabel(character + \"'s lines spoken\", fontsize=12)\n",
    "    plt.ylabel(\"IMDB episode rating\")\n",
    "    plt.show()"
   ]
  },
  {
   "cell_type": "code",
   "execution_count": 19,
   "metadata": {},
   "outputs": [
    {
     "ename": "ValueError",
     "evalue": "Length of values does not match length of index",
     "output_type": "error",
     "traceback": [
      "\u001b[0;31m---------------------------------------------------------------------------\u001b[0m",
      "\u001b[0;31mValueError\u001b[0m                                Traceback (most recent call last)",
      "\u001b[0;32m<ipython-input-19-ea49cd674803>\u001b[0m in \u001b[0;36m<module>\u001b[0;34m\u001b[0m\n\u001b[0;32m----> 1\u001b[0;31m \u001b[0mdf_condensed\u001b[0m\u001b[0;34m[\u001b[0m\u001b[0;34m\"corr(lines,ratings)\"\u001b[0m\u001b[0;34m]\u001b[0m \u001b[0;34m=\u001b[0m \u001b[0mcor\u001b[0m\u001b[0;34m\u001b[0m\u001b[0;34m\u001b[0m\u001b[0m\n\u001b[0m\u001b[1;32m      2\u001b[0m \u001b[0;34m\u001b[0m\u001b[0m\n\u001b[1;32m      3\u001b[0m \u001b[0mpos\u001b[0m \u001b[0;34m=\u001b[0m \u001b[0;34m[\u001b[0m\u001b[0;34m]\u001b[0m\u001b[0;34m\u001b[0m\u001b[0;34m\u001b[0m\u001b[0m\n\u001b[1;32m      4\u001b[0m \u001b[0;34m\u001b[0m\u001b[0m\n\u001b[1;32m      5\u001b[0m \u001b[0;32mfor\u001b[0m \u001b[0mc\u001b[0m \u001b[0;32min\u001b[0m \u001b[0mcor\u001b[0m\u001b[0;34m:\u001b[0m\u001b[0;34m\u001b[0m\u001b[0;34m\u001b[0m\u001b[0m\n",
      "\u001b[0;32m//anaconda3/lib/python3.7/site-packages/pandas/core/frame.py\u001b[0m in \u001b[0;36m__setitem__\u001b[0;34m(self, key, value)\u001b[0m\n\u001b[1;32m   3368\u001b[0m         \u001b[0;32melse\u001b[0m\u001b[0;34m:\u001b[0m\u001b[0;34m\u001b[0m\u001b[0;34m\u001b[0m\u001b[0m\n\u001b[1;32m   3369\u001b[0m             \u001b[0;31m# set column\u001b[0m\u001b[0;34m\u001b[0m\u001b[0;34m\u001b[0m\u001b[0;34m\u001b[0m\u001b[0m\n\u001b[0;32m-> 3370\u001b[0;31m             \u001b[0mself\u001b[0m\u001b[0;34m.\u001b[0m\u001b[0m_set_item\u001b[0m\u001b[0;34m(\u001b[0m\u001b[0mkey\u001b[0m\u001b[0;34m,\u001b[0m \u001b[0mvalue\u001b[0m\u001b[0;34m)\u001b[0m\u001b[0;34m\u001b[0m\u001b[0;34m\u001b[0m\u001b[0m\n\u001b[0m\u001b[1;32m   3371\u001b[0m \u001b[0;34m\u001b[0m\u001b[0m\n\u001b[1;32m   3372\u001b[0m     \u001b[0;32mdef\u001b[0m \u001b[0m_setitem_slice\u001b[0m\u001b[0;34m(\u001b[0m\u001b[0mself\u001b[0m\u001b[0;34m,\u001b[0m \u001b[0mkey\u001b[0m\u001b[0;34m,\u001b[0m \u001b[0mvalue\u001b[0m\u001b[0;34m)\u001b[0m\u001b[0;34m:\u001b[0m\u001b[0;34m\u001b[0m\u001b[0;34m\u001b[0m\u001b[0m\n",
      "\u001b[0;32m//anaconda3/lib/python3.7/site-packages/pandas/core/frame.py\u001b[0m in \u001b[0;36m_set_item\u001b[0;34m(self, key, value)\u001b[0m\n\u001b[1;32m   3443\u001b[0m \u001b[0;34m\u001b[0m\u001b[0m\n\u001b[1;32m   3444\u001b[0m         \u001b[0mself\u001b[0m\u001b[0;34m.\u001b[0m\u001b[0m_ensure_valid_index\u001b[0m\u001b[0;34m(\u001b[0m\u001b[0mvalue\u001b[0m\u001b[0;34m)\u001b[0m\u001b[0;34m\u001b[0m\u001b[0;34m\u001b[0m\u001b[0m\n\u001b[0;32m-> 3445\u001b[0;31m         \u001b[0mvalue\u001b[0m \u001b[0;34m=\u001b[0m \u001b[0mself\u001b[0m\u001b[0;34m.\u001b[0m\u001b[0m_sanitize_column\u001b[0m\u001b[0;34m(\u001b[0m\u001b[0mkey\u001b[0m\u001b[0;34m,\u001b[0m \u001b[0mvalue\u001b[0m\u001b[0;34m)\u001b[0m\u001b[0;34m\u001b[0m\u001b[0;34m\u001b[0m\u001b[0m\n\u001b[0m\u001b[1;32m   3446\u001b[0m         \u001b[0mNDFrame\u001b[0m\u001b[0;34m.\u001b[0m\u001b[0m_set_item\u001b[0m\u001b[0;34m(\u001b[0m\u001b[0mself\u001b[0m\u001b[0;34m,\u001b[0m \u001b[0mkey\u001b[0m\u001b[0;34m,\u001b[0m \u001b[0mvalue\u001b[0m\u001b[0;34m)\u001b[0m\u001b[0;34m\u001b[0m\u001b[0;34m\u001b[0m\u001b[0m\n\u001b[1;32m   3447\u001b[0m \u001b[0;34m\u001b[0m\u001b[0m\n",
      "\u001b[0;32m//anaconda3/lib/python3.7/site-packages/pandas/core/frame.py\u001b[0m in \u001b[0;36m_sanitize_column\u001b[0;34m(self, key, value, broadcast)\u001b[0m\n\u001b[1;32m   3628\u001b[0m \u001b[0;34m\u001b[0m\u001b[0m\n\u001b[1;32m   3629\u001b[0m             \u001b[0;31m# turn me into an ndarray\u001b[0m\u001b[0;34m\u001b[0m\u001b[0;34m\u001b[0m\u001b[0;34m\u001b[0m\u001b[0m\n\u001b[0;32m-> 3630\u001b[0;31m             \u001b[0mvalue\u001b[0m \u001b[0;34m=\u001b[0m \u001b[0msanitize_index\u001b[0m\u001b[0;34m(\u001b[0m\u001b[0mvalue\u001b[0m\u001b[0;34m,\u001b[0m \u001b[0mself\u001b[0m\u001b[0;34m.\u001b[0m\u001b[0mindex\u001b[0m\u001b[0;34m,\u001b[0m \u001b[0mcopy\u001b[0m\u001b[0;34m=\u001b[0m\u001b[0;32mFalse\u001b[0m\u001b[0;34m)\u001b[0m\u001b[0;34m\u001b[0m\u001b[0;34m\u001b[0m\u001b[0m\n\u001b[0m\u001b[1;32m   3631\u001b[0m             \u001b[0;32mif\u001b[0m \u001b[0;32mnot\u001b[0m \u001b[0misinstance\u001b[0m\u001b[0;34m(\u001b[0m\u001b[0mvalue\u001b[0m\u001b[0;34m,\u001b[0m \u001b[0;34m(\u001b[0m\u001b[0mnp\u001b[0m\u001b[0;34m.\u001b[0m\u001b[0mndarray\u001b[0m\u001b[0;34m,\u001b[0m \u001b[0mIndex\u001b[0m\u001b[0;34m)\u001b[0m\u001b[0;34m)\u001b[0m\u001b[0;34m:\u001b[0m\u001b[0;34m\u001b[0m\u001b[0;34m\u001b[0m\u001b[0m\n\u001b[1;32m   3632\u001b[0m                 \u001b[0;32mif\u001b[0m \u001b[0misinstance\u001b[0m\u001b[0;34m(\u001b[0m\u001b[0mvalue\u001b[0m\u001b[0;34m,\u001b[0m \u001b[0mlist\u001b[0m\u001b[0;34m)\u001b[0m \u001b[0;32mand\u001b[0m \u001b[0mlen\u001b[0m\u001b[0;34m(\u001b[0m\u001b[0mvalue\u001b[0m\u001b[0;34m)\u001b[0m \u001b[0;34m>\u001b[0m \u001b[0;36m0\u001b[0m\u001b[0;34m:\u001b[0m\u001b[0;34m\u001b[0m\u001b[0;34m\u001b[0m\u001b[0m\n",
      "\u001b[0;32m//anaconda3/lib/python3.7/site-packages/pandas/core/internals/construction.py\u001b[0m in \u001b[0;36msanitize_index\u001b[0;34m(data, index, copy)\u001b[0m\n\u001b[1;32m    517\u001b[0m \u001b[0;34m\u001b[0m\u001b[0m\n\u001b[1;32m    518\u001b[0m     \u001b[0;32mif\u001b[0m \u001b[0mlen\u001b[0m\u001b[0;34m(\u001b[0m\u001b[0mdata\u001b[0m\u001b[0;34m)\u001b[0m \u001b[0;34m!=\u001b[0m \u001b[0mlen\u001b[0m\u001b[0;34m(\u001b[0m\u001b[0mindex\u001b[0m\u001b[0;34m)\u001b[0m\u001b[0;34m:\u001b[0m\u001b[0;34m\u001b[0m\u001b[0;34m\u001b[0m\u001b[0m\n\u001b[0;32m--> 519\u001b[0;31m         \u001b[0;32mraise\u001b[0m \u001b[0mValueError\u001b[0m\u001b[0;34m(\u001b[0m\u001b[0;34m'Length of values does not match length of index'\u001b[0m\u001b[0;34m)\u001b[0m\u001b[0;34m\u001b[0m\u001b[0;34m\u001b[0m\u001b[0m\n\u001b[0m\u001b[1;32m    520\u001b[0m \u001b[0;34m\u001b[0m\u001b[0m\n\u001b[1;32m    521\u001b[0m     \u001b[0;32mif\u001b[0m \u001b[0misinstance\u001b[0m\u001b[0;34m(\u001b[0m\u001b[0mdata\u001b[0m\u001b[0;34m,\u001b[0m \u001b[0mABCIndexClass\u001b[0m\u001b[0;34m)\u001b[0m \u001b[0;32mand\u001b[0m \u001b[0;32mnot\u001b[0m \u001b[0mcopy\u001b[0m\u001b[0;34m:\u001b[0m\u001b[0;34m\u001b[0m\u001b[0;34m\u001b[0m\u001b[0m\n",
      "\u001b[0;31mValueError\u001b[0m: Length of values does not match length of index"
     ]
    }
   ],
   "source": [
    "df_condensed[\"corr(lines,ratings)\"] = cor\n",
    "\n",
    "pos = []\n",
    "\n",
    "for c in cor:\n",
    "    if c > 0:\n",
    "        pos.append(1)\n",
    "    else:\n",
    "        pos.append(0)\n",
    "        \n",
    "df_condensed[\"positive impact\"] = pos\n",
    "\n",
    "render_mpl_table(df_condensed, header_columns=0, col_width=3.75)"
   ]
  },
  {
   "cell_type": "code",
   "execution_count": 20,
   "metadata": {
    "scrolled": true
   },
   "outputs": [
    {
     "name": "stdout",
     "output_type": "stream",
     "text": [
      "Michael Min:2.0\n",
      "Michael Mean:88.5912408759124\n",
      "Michael Max:167.0\n",
      "Michael Std:30.849862890467918\n",
      "Dwight Min:3.0\n",
      "Dwight Mean:40.47849462365591\n",
      "Dwight Max:99.0\n",
      "Dwight Std:20.725544230913176\n"
     ]
    },
    {
     "data": {
      "image/png": "[encoded data removed]",
      "text/plain": [
       "<Figure size 576x360 with 1 Axes>"
      ]
     },
     "metadata": {
      "needs_background": "light"
     },
     "output_type": "display_data"
    },
    {
     "data": {
      "image/png": "[encoded data removed]",
      "text/plain": [
       "<Figure size 576x360 with 1 Axes>"
      ]
     },
     "metadata": {
      "needs_background": "light"
     },
     "output_type": "display_data"
    }
   ],
   "source": [
    "hist = df_master.hist(column = \"Michael\", sharex=True, sharey=True, figsize=(8,5), grid=False, bins=25, range=[0,175])\n",
    "pl.ylim(0,30)\n",
    "pl.title(\"Histogram of Michael's Lines\", fontsize=16)\n",
    "pl.ylabel(\"Frequency\")\n",
    "pl.xlabel(\"Michael's Number of Lines in an Episode\")\n",
    "print('Michael Min:' + str(df_master['Michael'].min()))\n",
    "print('Michael Mean:' + str(df_master['Michael'].mean()))\n",
    "print('Michael Max:' + str(df_master['Michael'].max()))\n",
    "print('Michael Std:' + str(df_master['Michael'].std()))\n",
    "\n",
    "\n",
    "\n",
    "hist = df_master.hist(column = \"Dwight\", sharex=True, sharey=True, figsize=(8,5), grid=False, bins=25, range=[0,175])\n",
    "pl.ylim(0,30)\n",
    "pl.title(\"Histogram of Dwight's Lines\", fontsize=16)\n",
    "pl.ylabel(\"Frequency\")\n",
    "pl.xlabel(\"Dwight's Number of Lines in an Episode\")\n",
    "print('Dwight Min:' + str(df_master['Dwight'].min()))\n",
    "print('Dwight Mean:' + str(df_master['Dwight'].mean()))\n",
    "print('Dwight Max:' + str(df_master['Dwight'].max()))\n",
    "print('Dwight Std:' + str(df_master['Dwight'].std()))"
   ]
  },
  {
   "cell_type": "markdown",
   "metadata": {},
   "source": [
    "Now we will Look only at Dwight and Michael"
   ]
  },
  {
   "cell_type": "code",
   "execution_count": 59,
   "metadata": {},
   "outputs": [
    {
     "name": "stdout",
     "output_type": "stream",
     "text": [
      "Min:6.8\n",
      "Mean:8.42481751824818\n",
      "Max:9.8\n",
      "Std:0.49834741925597426\n",
      "95% Confidence Interval for Mean: (8.341367199214613 , 8.508267837281746)\n",
      "95% Confidence Interval for std: (0.5105808500665749 , 0.6745856473062825)\n"
     ]
    },
    {
     "data": {
      "text/html": [
       "<div>\n",
       "<style scoped>\n",
       "    .dataframe tbody tr th:only-of-type {\n",
       "        vertical-align: middle;\n",
       "    }\n",
       "\n",
       "    .dataframe tbody tr th {\n",
       "        vertical-align: top;\n",
       "    }\n",
       "\n",
       "    .dataframe thead th {\n",
       "        text-align: right;\n",
       "    }\n",
       "</style>\n",
       "<table border=\"1\" class=\"dataframe\">\n",
       "  <thead>\n",
       "    <tr style=\"text-align: right;\">\n",
       "      <th></th>\n",
       "      <th>index</th>\n",
       "      <th>season</th>\n",
       "      <th>episode</th>\n",
       "      <th>rating</th>\n",
       "      <th>Michael</th>\n",
       "      <th>Dwight</th>\n",
       "    </tr>\n",
       "  </thead>\n",
       "  <tbody>\n",
       "    <tr>\n",
       "      <th>129</th>\n",
       "      <td>131</td>\n",
       "      <td>7.0</td>\n",
       "      <td>15.0</td>\n",
       "      <td>8.4</td>\n",
       "      <td>73.0</td>\n",
       "      <td>24.0</td>\n",
       "    </tr>\n",
       "    <tr>\n",
       "      <th>130</th>\n",
       "      <td>132</td>\n",
       "      <td>7.0</td>\n",
       "      <td>16.0</td>\n",
       "      <td>9.4</td>\n",
       "      <td>33.0</td>\n",
       "      <td>3.0</td>\n",
       "    </tr>\n",
       "    <tr>\n",
       "      <th>131</th>\n",
       "      <td>133</td>\n",
       "      <td>7.0</td>\n",
       "      <td>17.0</td>\n",
       "      <td>7.5</td>\n",
       "      <td>57.0</td>\n",
       "      <td>41.0</td>\n",
       "    </tr>\n",
       "    <tr>\n",
       "      <th>132</th>\n",
       "      <td>134</td>\n",
       "      <td>7.0</td>\n",
       "      <td>18.0</td>\n",
       "      <td>9.3</td>\n",
       "      <td>72.0</td>\n",
       "      <td>31.0</td>\n",
       "    </tr>\n",
       "    <tr>\n",
       "      <th>133</th>\n",
       "      <td>135</td>\n",
       "      <td>7.0</td>\n",
       "      <td>19.0</td>\n",
       "      <td>7.8</td>\n",
       "      <td>68.0</td>\n",
       "      <td>10.0</td>\n",
       "    </tr>\n",
       "    <tr>\n",
       "      <th>134</th>\n",
       "      <td>136</td>\n",
       "      <td>7.0</td>\n",
       "      <td>20.0</td>\n",
       "      <td>9.0</td>\n",
       "      <td>82.0</td>\n",
       "      <td>13.0</td>\n",
       "    </tr>\n",
       "    <tr>\n",
       "      <th>135</th>\n",
       "      <td>137</td>\n",
       "      <td>7.0</td>\n",
       "      <td>21.0</td>\n",
       "      <td>9.8</td>\n",
       "      <td>116.0</td>\n",
       "      <td>16.0</td>\n",
       "    </tr>\n",
       "    <tr>\n",
       "      <th>136</th>\n",
       "      <td>187</td>\n",
       "      <td>9.0</td>\n",
       "      <td>23.0</td>\n",
       "      <td>9.8</td>\n",
       "      <td>2.0</td>\n",
       "      <td>76.0</td>\n",
       "    </tr>\n",
       "  </tbody>\n",
       "</table>\n",
       "</div>"
      ],
      "text/plain": [
       "     index  season  episode  rating  Michael  Dwight\n",
       "129    131     7.0     15.0     8.4     73.0    24.0\n",
       "130    132     7.0     16.0     9.4     33.0     3.0\n",
       "131    133     7.0     17.0     7.5     57.0    41.0\n",
       "132    134     7.0     18.0     9.3     72.0    31.0\n",
       "133    135     7.0     19.0     7.8     68.0    10.0\n",
       "134    136     7.0     20.0     9.0     82.0    13.0\n",
       "135    137     7.0     21.0     9.8    116.0    16.0\n",
       "136    187     9.0     23.0     9.8      2.0    76.0"
      ]
     },
     "execution_count": 59,
     "metadata": {},
     "output_type": "execute_result"
    }
   ],
   "source": [
    "df = pd.read_csv('master.csv')\n",
    "cols = list(df.columns)\n",
    "df = df[cols[1:6]]\n",
    "df_M = df[cols[1:5]]\n",
    "df_D = df[cols[1:4] + cols[5:6]]\n",
    "df = df[df['Michael'].notna()]\n",
    "df = df[df['Dwight'].notna()]\n",
    "df = df.reset_index()\n",
    "\n",
    "print('Min:' + str(df['rating'].min()))\n",
    "print('Mean:' + str(df['rating'].mean()))\n",
    "print('Max:' + str(df['rating'].max()))\n",
    "print('Std:' + str(df['rating'].std()))\n",
    "\n",
    "\n",
    "x = df['rating'].mean()\n",
    "s = df['rating'].std()\n",
    "n = df.shape[0]\n",
    "z = 1.96\n",
    "\n",
    "mean_lower_bound = x - (z * s / np.sqrt(n))\n",
    "mean_upper_bound = x + (z * s / np.sqrt(n))\n",
    "print('95% Confidence Interval for Mean: (' + str(mean_lower_bound) + ' , ' + str(mean_upper_bound) + ')')\n",
    "\n",
    "std_upper_bound = np.sqrt((n-1)*(s*s)/74.2214)\n",
    "std_lower_bound = np.sqrt((n-1)*(s*s)/129.561)\n",
    "print('95% Confidence Interval for std: (' + str(std_lower_bound) + ' , ' + str(std_upper_bound) + ')')\n",
    "\n",
    "df.tail(8)"
   ]
  },
  {
   "cell_type": "code",
   "execution_count": 56,
   "metadata": {},
   "outputs": [
    {
     "name": "stdout",
     "output_type": "stream",
     "text": [
      "Test statistic for mean 4.143423288793244\n",
      "Test statistic for std 117.11226464045839\n"
     ]
    }
   ],
   "source": [
    "test_stat_m = (x - 8.248404255319146)/(s/ np.sqrt(n))\n",
    "print(\"Test statistic for mean \" + str(test_stat_m))\n",
    "\n",
    "test_stat_std = (s/0.5787203349443079)*(n-1)\n",
    "print(\"Test statistic for std \" + str(test_stat_std))\n",
    "\n"
   ]
  },
  {
   "cell_type": "code",
   "execution_count": 77,
   "metadata": {},
   "outputs": [
    {
     "data": {
      "text/html": [
       "<div>\n",
       "<style scoped>\n",
       "    .dataframe tbody tr th:only-of-type {\n",
       "        vertical-align: middle;\n",
       "    }\n",
       "\n",
       "    .dataframe tbody tr th {\n",
       "        vertical-align: top;\n",
       "    }\n",
       "\n",
       "    .dataframe thead th {\n",
       "        text-align: right;\n",
       "    }\n",
       "</style>\n",
       "<table border=\"1\" class=\"dataframe\">\n",
       "  <thead>\n",
       "    <tr style=\"text-align: right;\">\n",
       "      <th></th>\n",
       "      <th>season</th>\n",
       "      <th>episode</th>\n",
       "      <th>rating</th>\n",
       "      <th>Michael</th>\n",
       "    </tr>\n",
       "  </thead>\n",
       "  <tbody>\n",
       "    <tr>\n",
       "      <th>134</th>\n",
       "      <td>7.0</td>\n",
       "      <td>18.0</td>\n",
       "      <td>9.3</td>\n",
       "      <td>72.0</td>\n",
       "    </tr>\n",
       "    <tr>\n",
       "      <th>135</th>\n",
       "      <td>7.0</td>\n",
       "      <td>19.0</td>\n",
       "      <td>7.8</td>\n",
       "      <td>68.0</td>\n",
       "    </tr>\n",
       "    <tr>\n",
       "      <th>136</th>\n",
       "      <td>7.0</td>\n",
       "      <td>20.0</td>\n",
       "      <td>9.0</td>\n",
       "      <td>82.0</td>\n",
       "    </tr>\n",
       "    <tr>\n",
       "      <th>137</th>\n",
       "      <td>7.0</td>\n",
       "      <td>21.0</td>\n",
       "      <td>9.8</td>\n",
       "      <td>116.0</td>\n",
       "    </tr>\n",
       "    <tr>\n",
       "      <th>187</th>\n",
       "      <td>9.0</td>\n",
       "      <td>23.0</td>\n",
       "      <td>9.8</td>\n",
       "      <td>2.0</td>\n",
       "    </tr>\n",
       "  </tbody>\n",
       "</table>\n",
       "</div>"
      ],
      "text/plain": [
       "     season  episode  rating  Michael\n",
       "134     7.0     18.0     9.3     72.0\n",
       "135     7.0     19.0     7.8     68.0\n",
       "136     7.0     20.0     9.0     82.0\n",
       "137     7.0     21.0     9.8    116.0\n",
       "187     9.0     23.0     9.8      2.0"
      ]
     },
     "execution_count": 77,
     "metadata": {},
     "output_type": "execute_result"
    }
   ],
   "source": [
    "df_M = df_M[df_M['Michael'].notna()]\n",
    "x_M = df_M['rating'].mean()\n",
    "n_M = df_M.shape[0]\n",
    "s_M = df_M['rating'].std()\n",
    "\n",
    "df_M.tail(5)\n"
   ]
  },
  {
   "cell_type": "code",
   "execution_count": 78,
   "metadata": {},
   "outputs": [
    {
     "data": {
      "text/html": [
       "<div>\n",
       "<style scoped>\n",
       "    .dataframe tbody tr th:only-of-type {\n",
       "        vertical-align: middle;\n",
       "    }\n",
       "\n",
       "    .dataframe tbody tr th {\n",
       "        vertical-align: top;\n",
       "    }\n",
       "\n",
       "    .dataframe thead th {\n",
       "        text-align: right;\n",
       "    }\n",
       "</style>\n",
       "<table border=\"1\" class=\"dataframe\">\n",
       "  <thead>\n",
       "    <tr style=\"text-align: right;\">\n",
       "      <th></th>\n",
       "      <th>season</th>\n",
       "      <th>episode</th>\n",
       "      <th>rating</th>\n",
       "      <th>Dwight</th>\n",
       "    </tr>\n",
       "  </thead>\n",
       "  <tbody>\n",
       "    <tr>\n",
       "      <th>183</th>\n",
       "      <td>9.0</td>\n",
       "      <td>19.0</td>\n",
       "      <td>8.0</td>\n",
       "      <td>61.0</td>\n",
       "    </tr>\n",
       "    <tr>\n",
       "      <th>184</th>\n",
       "      <td>9.0</td>\n",
       "      <td>20.0</td>\n",
       "      <td>8.0</td>\n",
       "      <td>21.0</td>\n",
       "    </tr>\n",
       "    <tr>\n",
       "      <th>185</th>\n",
       "      <td>9.0</td>\n",
       "      <td>21.0</td>\n",
       "      <td>9.0</td>\n",
       "      <td>54.0</td>\n",
       "    </tr>\n",
       "    <tr>\n",
       "      <th>186</th>\n",
       "      <td>9.0</td>\n",
       "      <td>22.0</td>\n",
       "      <td>9.5</td>\n",
       "      <td>87.0</td>\n",
       "    </tr>\n",
       "    <tr>\n",
       "      <th>187</th>\n",
       "      <td>9.0</td>\n",
       "      <td>23.0</td>\n",
       "      <td>9.8</td>\n",
       "      <td>76.0</td>\n",
       "    </tr>\n",
       "  </tbody>\n",
       "</table>\n",
       "</div>"
      ],
      "text/plain": [
       "     season  episode  rating  Dwight\n",
       "183     9.0     19.0     8.0    61.0\n",
       "184     9.0     20.0     8.0    21.0\n",
       "185     9.0     21.0     9.0    54.0\n",
       "186     9.0     22.0     9.5    87.0\n",
       "187     9.0     23.0     9.8    76.0"
      ]
     },
     "execution_count": 78,
     "metadata": {},
     "output_type": "execute_result"
    }
   ],
   "source": [
    "df_D = df_D[df_D['Dwight'].notna()]\n",
    "x_D = df_D['rating'].mean()\n",
    "n_D = df_D.shape[0]\n",
    "s_D = df_D['rating'].std()\n",
    "\n",
    "df_D.tail(5)"
   ]
  },
  {
   "cell_type": "code",
   "execution_count": 75,
   "metadata": {},
   "outputs": [
    {
     "name": "stdout",
     "output_type": "stream",
     "text": [
      "Avg Michael rating: 8.42481751824818 with n = 137\n",
      "95% Confidence Interval for Michaels Mean: (8.341367199214613 , 8.508267837281746)\n",
      "95% Confidence Interval for std: (0.5105808500665749 , 0.6745856473062825)\n",
      "Test statistic for mean 4.143423288793244\n",
      "Test statistic for std 117.11226464045839\n"
     ]
    }
   ],
   "source": [
    "print(\"Avg Michael rating: \" + str(x_M) + \" with n = \" + str(n_M))\n",
    "m_mean_lower_bound = x_M - (z * s / np.sqrt(n_M))\n",
    "m_mean_upper_bound = x_M + (z * s / np.sqrt(n_M))\n",
    "print('95% Confidence Interval for Michaels Mean: (' + str(m_mean_lower_bound) + ' , ' + str(m_mean_upper_bound) + ')')\n",
    "\n",
    "m_std_upper_bound = np.sqrt((n-1)*(s_M*s_M)/74.2214)\n",
    "m_std_lower_bound = np.sqrt((n-1)*(s_M*s_M)/129.561)\n",
    "print('95% Confidence Interval for std: (' + str(m_std_lower_bound) + ' , ' + str(m_std_upper_bound) + ')')\n",
    "\n",
    "test_stat_m = (x_M - 8.248404255319146)/(s_M/ np.sqrt(n_M))\n",
    "print(\"Test statistic for mean \" + str(test_stat_m))\n",
    "\n",
    "test_stat_std = (s_M/0.5787203349443079)*(n_M-1)\n",
    "print(\"Test statistic for std \" + str(test_stat_std))\n"
   ]
  },
  {
   "cell_type": "code",
   "execution_count": 76,
   "metadata": {},
   "outputs": [
    {
     "name": "stdout",
     "output_type": "stream",
     "text": [
      "Avg Dwight rating: 8.252150537634407 with n = 186\n",
      "95% Confidence Interval for Dwights Mean: (8.180530950548425 , 8.323770124720388)\n",
      "95% Confidence Interval for std: (0.5948588298167655 , 0.7859347421970034)\n",
      "Test statistic for mean 0.0879985204626101\n",
      "Test statistic for std 185.60282816135933\n"
     ]
    }
   ],
   "source": [
    "d_mean_lower_bound = x_D - (z * s / np.sqrt(n_D))\n",
    "d_mean_upper_bound = x_D + (z * s / np.sqrt(n_D))\n",
    "print(\"Avg Dwight rating: \" + str(x_D) + \" with n = \" + str(n_D))\n",
    "print('95% Confidence Interval for Dwights Mean: (' + str(d_mean_lower_bound) + ' , ' + str(d_mean_upper_bound) + ')')\n",
    "\n",
    "d_std_upper_bound = np.sqrt((n-1)*(s_D*s_D)/74.2214)\n",
    "d_std_lower_bound = np.sqrt((n-1)*(s_D*s_D)/129.561)\n",
    "print('95% Confidence Interval for std: (' + str(d_std_lower_bound) + ' , ' + str(d_std_upper_bound) + ')')\n",
    "\n",
    "test_stat_m = (x_D - 8.248404255319146)/(s_D/ np.sqrt(n_D))\n",
    "print(\"Test statistic for mean \" + str(test_stat_m))\n",
    "\n",
    "test_stat_std = (s_D/0.5787203349443079)*(n_D-1)\n",
    "print(\"Test statistic for std \" + str(test_stat_std))\n",
    "\n"
   ]
  },
  {
   "cell_type": "code",
   "execution_count": 74,
   "metadata": {},
   "outputs": [
    {
     "name": "stdout",
     "output_type": "stream",
     "text": [
      "Avg Michael rating: 8.42481751824818 with n = 137\n",
      "Avg Dwight rating: 8.252150537634407 with n = 186\n",
      "Point estimate of difference of means: 0.17266698061377284\n",
      "Confidence interval for difference of means: (0.011527911943039648 , 0.333806049284506)\n"
     ]
    }
   ],
   "source": [
    "diff = x_M - x_D\n",
    "\n",
    "print(\"Avg Michael rating: \" + str(x_M) + \" with n = \" + str(n_M))\n",
    "print(\"Avg Dwight rating: \" + str(x_D) + \" with n = \" + str(n_D))\n",
    "print(\"Point estimate of difference of means: \" + str(diff))\n",
    "\n",
    "diff_lower = diff - z*(np.sqrt((s_D/n_D) + (s_M/n_M)))\n",
    "diff_upper = diff + z*(np.sqrt((s_D/n_D) + (s_M/n_M))) \n",
    "\n",
    "print(\"Confidence interval for difference of means: (\" + str(diff_lower) + \" , \" + str(diff_upper) + \")\")"
   ]
  },
  {
   "cell_type": "code",
   "execution_count": null,
   "metadata": {},
   "outputs": [],
   "source": []
  },
  {
   "cell_type": "code",
   "execution_count": null,
   "metadata": {},
   "outputs": [],
   "source": []
  }
 ],
 "metadata": {
  "kernelspec": {
   "display_name": "Python 3",
   "language": "python",
   "name": "python3"
  },
  "language_info": {
   "codemirror_mode": {
    "name": "ipython",
    "version": 3
   },
   "file_extension": ".py",
   "mimetype": "text/x-python",
   "name": "python",
   "nbconvert_exporter": "python",
   "pygments_lexer": "ipython3",
   "version": "3.7.3"
  }
 },
 "nbformat": 4,
 "nbformat_minor": 2
}
